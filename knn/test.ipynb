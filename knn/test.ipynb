{
 "cells": [
  {
   "cell_type": "code",
   "execution_count": 1,
   "metadata": {},
   "outputs": [],
   "source": [
    "import numpy as np\n",
    "from scipy.spatial.distance import cdist\n",
    "import pandas as pd"
   ]
  },
  {
   "cell_type": "code",
   "execution_count": 2,
   "metadata": {
    "pycharm": {
     "name": "#%%\n"
    }
   },
   "outputs": [],
   "source": [
    "df = pd.read_csv('../data/MNIST_train_small.csv', header = None)\n",
    "df.head(5)\n",
    "Y = df.iloc[:, 0]\n",
    "X = df.iloc[:, 1:]"
   ]
  },
  {
   "cell_type": "code",
   "execution_count": 3,
   "metadata": {},
   "outputs": [],
   "source": [
    "df2 = pd.read_csv('../data/MNIST_test_small.csv', header = None)\n",
    "df2.head(5)\n",
    "Y2 = df2.iloc[:, 0]\n",
    "X2 = df2.iloc[:, 1:]"
   ]
  },
  {
   "cell_type": "code",
   "execution_count": 27,
   "metadata": {},
   "outputs": [],
   "source": [
    "distances = cdist(XA=X, XB=X, metric = 'minkowski', p =2.0)"
   ]
  },
  {
   "cell_type": "code",
   "execution_count": 28,
   "metadata": {},
   "outputs": [],
   "source": [
    "labels = np.tile(Y, (X.shape[0], 1))"
   ]
  },
  {
   "cell_type": "code",
   "execution_count": 29,
   "metadata": {},
   "outputs": [],
   "source": [
    "sorted_points_indices = np.apply_along_axis(np.argsort, 1, distances)"
   ]
  },
  {
   "cell_type": "code",
   "execution_count": 30,
   "metadata": {},
   "outputs": [
    {
     "data": {
      "text/plain": [
       "array([[   0,  429,  773, ..., 2052, 2080, 1561],\n",
       "       [   1,  739,  164, ...,  311,  548,  935],\n",
       "       [   2, 2598, 2136, ...,  123, 1080, 2747],\n",
       "       ...,\n",
       "       [2997, 2399, 2786, ...,  123, 1080, 2747],\n",
       "       [2998, 2395, 1620, ...,  848, 2747, 1080],\n",
       "       [2999, 1410, 2214, ...,  848,  935, 1080]], dtype=int64)"
      ]
     },
     "execution_count": 30,
     "metadata": {},
     "output_type": "execute_result"
    }
   ],
   "source": [
    "sorted_points_indices"
   ]
  },
  {
   "cell_type": "code",
   "execution_count": 31,
   "metadata": {},
   "outputs": [],
   "source": [
    "sorted_distances = distances[np.arange(sorted_points_indices.shape[0])[:, None], sorted_points_indices]"
   ]
  },
  {
   "cell_type": "code",
   "execution_count": 32,
   "metadata": {},
   "outputs": [],
   "source": [
    "sorted_labels = labels[np.arange(sorted_points_indices.shape[0])[:, None], sorted_points_indices]"
   ]
  },
  {
   "cell_type": "code",
   "execution_count": 33,
   "metadata": {},
   "outputs": [],
   "source": [
    "k_sorted_labels = sorted_labels[:, :2]\n",
    "k_sorted_distances = sorted_distances[:, :2]"
   ]
  },
  {
   "cell_type": "code",
   "execution_count": 34,
   "metadata": {},
   "outputs": [],
   "source": [
    "supermatrix = np.zeros((X.shape[0], 2, 2))\n",
    "supermatrix[:, :, 0] = k_sorted_distances\n",
    "supermatrix[:, :, 1] = k_sorted_labels"
   ]
  },
  {
   "cell_type": "code",
   "execution_count": 37,
   "metadata": {},
   "outputs": [],
   "source": [
    "def majority(x, k):\n",
    "    \"\"\"\n",
    "    Auxiliary function to get the majority among k-nearest neighbors. It is extended to add custom tie-breaking rule\n",
    "    (instead of standard picking first of satisfying numbers): weighted k-nearest neighbors (the class with smallest\n",
    "    sum of distances to target)\n",
    "\n",
    "     :param x: row, where first k cells are distances to k-nearest neighbors and last k cells are labels of k-nearest\n",
    "     neigbors\n",
    "\n",
    "     :return: value of label\n",
    "    \"\"\"\n",
    "    distances = x[:k]\n",
    "    labels = x[k:]\n",
    "    values, counts = np.unique(x, return_counts = True)\n",
    "    if k == 1:\n",
    "        return labels[0]\n",
    "    elif (k>1) and (list(counts).count(max(list(counts))) > 1):\n",
    "        labels_to_compare = values[np.where(counts == max(list(counts)))]\n",
    "        weighted_dist = []\n",
    "        for i in range(labels_to_compare.shape[0]):\n",
    "            weighted_dist.append(np.sum(distances[np.where(labels == labels_to_compare[i])]))\n",
    "        return labels_to_compare[np.argmin(weighted_dist)]\n",
    "    else:\n",
    "        return max(set(list(labels)), key = list(labels).count)"
   ]
  },
  {
   "cell_type": "code",
   "execution_count": 38,
   "metadata": {},
   "outputs": [
    {
     "data": {
      "text/plain": [
       "array([[0.00000000e+00, 1.30419247e+03, 6.00000000e+00, 6.00000000e+00],\n",
       "       [0.00000000e+00, 1.34150624e+03, 3.00000000e+00, 3.00000000e+00],\n",
       "       [0.00000000e+00, 1.04427678e+03, 9.00000000e+00, 4.00000000e+00],\n",
       "       ...,\n",
       "       [0.00000000e+00, 1.89143861e+03, 8.00000000e+00, 1.00000000e+00],\n",
       "       [0.00000000e+00, 7.91513108e+02, 1.00000000e+00, 1.00000000e+00],\n",
       "       [0.00000000e+00, 8.41715510e+02, 7.00000000e+00, 7.00000000e+00]])"
      ]
     },
     "execution_count": 38,
     "metadata": {},
     "output_type": "execute_result"
    }
   ],
   "source": [
    "supermatrix.reshape((supermatrix.shape[0],2 * supermatrix.shape[1]),order='F')"
   ]
  },
  {
   "cell_type": "code",
   "execution_count": 41,
   "metadata": {},
   "outputs": [],
   "source": [
    "predicted_labels = np.apply_along_axis(majority, 1,\n",
    "                                       supermatrix.reshape((supermatrix.shape[0],\n",
    "                                                                         2 * supermatrix.shape[1]),\n",
    "                                                                        order='F'), k=2)"
   ]
  },
  {
   "cell_type": "code",
   "execution_count": 42,
   "metadata": {},
   "outputs": [
    {
     "data": {
      "text/plain": [
       "array([6., 3., 0., ..., 0., 1., 7.])"
      ]
     },
     "execution_count": 42,
     "metadata": {},
     "output_type": "execute_result"
    }
   ],
   "source": [
    "predicted_labels"
   ]
  },
  {
   "cell_type": "code",
   "execution_count": 45,
   "metadata": {},
   "outputs": [
    {
     "data": {
      "text/plain": [
       "array([   0.        , 1044.27678323,    9.        ,    4.        ])"
      ]
     },
     "execution_count": 45,
     "metadata": {},
     "output_type": "execute_result"
    }
   ],
   "source": [
    "supermatrix.reshape((supermatrix.shape[0],2 * supermatrix.shape[1]), order='F')[2]"
   ]
  },
  {
   "cell_type": "code",
   "execution_count": 46,
   "metadata": {},
   "outputs": [
    {
     "data": {
      "text/plain": [
       "0.0"
      ]
     },
     "execution_count": 46,
     "metadata": {},
     "output_type": "execute_result"
    }
   ],
   "source": [
    "majority(supermatrix.reshape((supermatrix.shape[0],2 * supermatrix.shape[1]), order='F')[2], 2)"
   ]
  },
  {
   "cell_type": "code",
   "execution_count": 48,
   "metadata": {},
   "outputs": [],
   "source": [
    "x=supermatrix.reshape((supermatrix.shape[0],2 * supermatrix.shape[1]), order='F')[2]\n",
    "k=2"
   ]
  },
  {
   "cell_type": "code",
   "execution_count": 49,
   "metadata": {},
   "outputs": [],
   "source": [
    "distances = x[:k]\n",
    "labels = x[k:]"
   ]
  },
  {
   "cell_type": "code",
   "execution_count": 50,
   "metadata": {},
   "outputs": [
    {
     "data": {
      "text/plain": [
       "array([   0.        , 1044.27678323])"
      ]
     },
     "execution_count": 50,
     "metadata": {},
     "output_type": "execute_result"
    }
   ],
   "source": [
    "distances"
   ]
  },
  {
   "cell_type": "code",
   "execution_count": 51,
   "metadata": {},
   "outputs": [
    {
     "data": {
      "text/plain": [
       "array([9., 4.])"
      ]
     },
     "execution_count": 51,
     "metadata": {},
     "output_type": "execute_result"
    }
   ],
   "source": [
    "labels"
   ]
  },
  {
   "cell_type": "code",
   "execution_count": 54,
   "metadata": {},
   "outputs": [],
   "source": [
    "values, counts = np.unique(labels, return_counts = True)"
   ]
  },
  {
   "cell_type": "code",
   "execution_count": 55,
   "metadata": {},
   "outputs": [
    {
     "data": {
      "text/plain": [
       "array([4., 9.])"
      ]
     },
     "execution_count": 55,
     "metadata": {},
     "output_type": "execute_result"
    }
   ],
   "source": [
    "values"
   ]
  },
  {
   "cell_type": "code",
   "execution_count": 56,
   "metadata": {},
   "outputs": [
    {
     "data": {
      "text/plain": [
       "array([1, 1], dtype=int64)"
      ]
     },
     "execution_count": 56,
     "metadata": {},
     "output_type": "execute_result"
    }
   ],
   "source": [
    "counts"
   ]
  },
  {
   "cell_type": "code",
   "execution_count": 57,
   "metadata": {},
   "outputs": [
    {
     "data": {
      "text/plain": [
       "True"
      ]
     },
     "execution_count": 57,
     "metadata": {},
     "output_type": "execute_result"
    }
   ],
   "source": [
    "(k>1) and (list(counts).count(max(list(counts))) > 1)"
   ]
  },
  {
   "cell_type": "code",
   "execution_count": null,
   "metadata": {},
   "outputs": [],
   "source": [
    "labels_to_compare = values[np.where(counts == max(list(counts)))]\n",
    "        weighted_dist = []\n",
    "        for i in range(labels_to_compare.shape[0]):\n",
    "            weighted_dist.append(np.sum(distances[np.where(labels == labels_to_compare[i])]))\n",
    "labels_to_compare[np.argmin(weighted_dist)]"
   ]
  }
 ],
 "metadata": {
  "kernelspec": {
   "display_name": "Python 3",
   "language": "python",
   "name": "python3"
  },
  "language_info": {
   "codemirror_mode": {
    "name": "ipython",
    "version": 3
   },
   "file_extension": ".py",
   "mimetype": "text/x-python",
   "name": "python",
   "nbconvert_exporter": "python",
   "pygments_lexer": "ipython3",
   "version": "3.8.5"
  }
 },
 "nbformat": 4,
 "nbformat_minor": 1
}
