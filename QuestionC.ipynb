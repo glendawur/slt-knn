{
 "cells": [
  {
   "cell_type": "code",
   "execution_count": 1,
   "id": "8dda2a94",
   "metadata": {},
   "outputs": [],
   "source": [
    "from knn.knn import KNNClassifier\n",
    "import numpy as np\n",
    "import pandas as pd\n",
    "import time"
   ]
  },
  {
   "cell_type": "code",
   "execution_count": 2,
   "id": "3bf182e9",
   "metadata": {},
   "outputs": [],
   "source": [
    "data = pd.read_csv('data/MNIST_train_small.csv', header = None)\n",
    "Y = data.iloc[:, 0]\n",
    "X = data.iloc[:, 1:]"
   ]
  },
  {
   "cell_type": "code",
   "execution_count": 6,
   "id": "5b2f478b",
   "metadata": {},
   "outputs": [],
   "source": [
    "df = pd.DataFrame()"
   ]
  },
  {
   "cell_type": "code",
   "execution_count": 1,
   "id": "529fac8d",
   "metadata": {},
   "outputs": [],
   "source": [
    "# Andrei's part\n",
    "a = 1\n",
    "b = 6\n",
    "\n",
    "# Luc's part \n",
    "#a = 6\n",
    "#b = 11\n",
    "\n",
    "# Nick's part\n",
    "#a=11\n",
    "#b=16\n",
    "\n",
    "# Sri's part\n",
    "#a = 16\n",
    "#b = 21"
   ]
  },
  {
   "cell_type": "code",
   "execution_count": 7,
   "id": "fc716c3b",
   "metadata": {
    "collapsed": true
   },
   "outputs": [
    {
     "name": "stderr",
     "output_type": "stream",
     "text": [
      "C:\\Users\\onii-chan\\AppData\\Local\\Temp\\ipykernel_15276\\1092399772.py:6: FutureWarning: The frame.append method is deprecated and will be removed from pandas in a future version. Use pandas.concat instead.\n",
      "  df = df.append({'k': k, 'p': p, 'loss': model.calculate_loocv()}, ignore_index=True)\n",
      "C:\\Users\\onii-chan\\AppData\\Local\\Temp\\ipykernel_15276\\1092399772.py:6: FutureWarning: The frame.append method is deprecated and will be removed from pandas in a future version. Use pandas.concat instead.\n",
      "  df = df.append({'k': k, 'p': p, 'loss': model.calculate_loocv()}, ignore_index=True)\n",
      "C:\\Users\\onii-chan\\AppData\\Local\\Temp\\ipykernel_15276\\1092399772.py:6: FutureWarning: The frame.append method is deprecated and will be removed from pandas in a future version. Use pandas.concat instead.\n",
      "  df = df.append({'k': k, 'p': p, 'loss': model.calculate_loocv()}, ignore_index=True)\n",
      "C:\\Users\\onii-chan\\AppData\\Local\\Temp\\ipykernel_15276\\1092399772.py:6: FutureWarning: The frame.append method is deprecated and will be removed from pandas in a future version. Use pandas.concat instead.\n",
      "  df = df.append({'k': k, 'p': p, 'loss': model.calculate_loocv()}, ignore_index=True)\n",
      "C:\\Users\\onii-chan\\AppData\\Local\\Temp\\ipykernel_15276\\1092399772.py:6: FutureWarning: The frame.append method is deprecated and will be removed from pandas in a future version. Use pandas.concat instead.\n",
      "  df = df.append({'k': k, 'p': p, 'loss': model.calculate_loocv()}, ignore_index=True)\n",
      "C:\\Users\\onii-chan\\AppData\\Local\\Temp\\ipykernel_15276\\1092399772.py:6: FutureWarning: The frame.append method is deprecated and will be removed from pandas in a future version. Use pandas.concat instead.\n",
      "  df = df.append({'k': k, 'p': p, 'loss': model.calculate_loocv()}, ignore_index=True)\n",
      "C:\\Users\\onii-chan\\AppData\\Local\\Temp\\ipykernel_15276\\1092399772.py:6: FutureWarning: The frame.append method is deprecated and will be removed from pandas in a future version. Use pandas.concat instead.\n",
      "  df = df.append({'k': k, 'p': p, 'loss': model.calculate_loocv()}, ignore_index=True)\n",
      "C:\\Users\\onii-chan\\AppData\\Local\\Temp\\ipykernel_15276\\1092399772.py:6: FutureWarning: The frame.append method is deprecated and will be removed from pandas in a future version. Use pandas.concat instead.\n",
      "  df = df.append({'k': k, 'p': p, 'loss': model.calculate_loocv()}, ignore_index=True)\n",
      "C:\\Users\\onii-chan\\AppData\\Local\\Temp\\ipykernel_15276\\1092399772.py:6: FutureWarning: The frame.append method is deprecated and will be removed from pandas in a future version. Use pandas.concat instead.\n",
      "  df = df.append({'k': k, 'p': p, 'loss': model.calculate_loocv()}, ignore_index=True)\n",
      "C:\\Users\\onii-chan\\AppData\\Local\\Temp\\ipykernel_15276\\1092399772.py:6: FutureWarning: The frame.append method is deprecated and will be removed from pandas in a future version. Use pandas.concat instead.\n",
      "  df = df.append({'k': k, 'p': p, 'loss': model.calculate_loocv()}, ignore_index=True)\n",
      "C:\\Users\\onii-chan\\AppData\\Local\\Temp\\ipykernel_15276\\1092399772.py:6: FutureWarning: The frame.append method is deprecated and will be removed from pandas in a future version. Use pandas.concat instead.\n",
      "  df = df.append({'k': k, 'p': p, 'loss': model.calculate_loocv()}, ignore_index=True)\n",
      "C:\\Users\\onii-chan\\AppData\\Local\\Temp\\ipykernel_15276\\1092399772.py:6: FutureWarning: The frame.append method is deprecated and will be removed from pandas in a future version. Use pandas.concat instead.\n",
      "  df = df.append({'k': k, 'p': p, 'loss': model.calculate_loocv()}, ignore_index=True)\n",
      "C:\\Users\\onii-chan\\AppData\\Local\\Temp\\ipykernel_15276\\1092399772.py:6: FutureWarning: The frame.append method is deprecated and will be removed from pandas in a future version. Use pandas.concat instead.\n",
      "  df = df.append({'k': k, 'p': p, 'loss': model.calculate_loocv()}, ignore_index=True)\n",
      "C:\\Users\\onii-chan\\AppData\\Local\\Temp\\ipykernel_15276\\1092399772.py:6: FutureWarning: The frame.append method is deprecated and will be removed from pandas in a future version. Use pandas.concat instead.\n",
      "  df = df.append({'k': k, 'p': p, 'loss': model.calculate_loocv()}, ignore_index=True)\n",
      "C:\\Users\\onii-chan\\AppData\\Local\\Temp\\ipykernel_15276\\1092399772.py:6: FutureWarning: The frame.append method is deprecated and will be removed from pandas in a future version. Use pandas.concat instead.\n",
      "  df = df.append({'k': k, 'p': p, 'loss': model.calculate_loocv()}, ignore_index=True)\n",
      "C:\\Users\\onii-chan\\AppData\\Local\\Temp\\ipykernel_15276\\1092399772.py:6: FutureWarning: The frame.append method is deprecated and will be removed from pandas in a future version. Use pandas.concat instead.\n",
      "  df = df.append({'k': k, 'p': p, 'loss': model.calculate_loocv()}, ignore_index=True)\n",
      "C:\\Users\\onii-chan\\AppData\\Local\\Temp\\ipykernel_15276\\1092399772.py:6: FutureWarning: The frame.append method is deprecated and will be removed from pandas in a future version. Use pandas.concat instead.\n",
      "  df = df.append({'k': k, 'p': p, 'loss': model.calculate_loocv()}, ignore_index=True)\n",
      "C:\\Users\\onii-chan\\AppData\\Local\\Temp\\ipykernel_15276\\1092399772.py:6: FutureWarning: The frame.append method is deprecated and will be removed from pandas in a future version. Use pandas.concat instead.\n",
      "  df = df.append({'k': k, 'p': p, 'loss': model.calculate_loocv()}, ignore_index=True)\n",
      "C:\\Users\\onii-chan\\AppData\\Local\\Temp\\ipykernel_15276\\1092399772.py:6: FutureWarning: The frame.append method is deprecated and will be removed from pandas in a future version. Use pandas.concat instead.\n",
      "  df = df.append({'k': k, 'p': p, 'loss': model.calculate_loocv()}, ignore_index=True)\n",
      "C:\\Users\\onii-chan\\AppData\\Local\\Temp\\ipykernel_15276\\1092399772.py:6: FutureWarning: The frame.append method is deprecated and will be removed from pandas in a future version. Use pandas.concat instead.\n",
      "  df = df.append({'k': k, 'p': p, 'loss': model.calculate_loocv()}, ignore_index=True)\n",
      "C:\\Users\\onii-chan\\AppData\\Local\\Temp\\ipykernel_15276\\1092399772.py:6: FutureWarning: The frame.append method is deprecated and will be removed from pandas in a future version. Use pandas.concat instead.\n",
      "  df = df.append({'k': k, 'p': p, 'loss': model.calculate_loocv()}, ignore_index=True)\n",
      "C:\\Users\\onii-chan\\AppData\\Local\\Temp\\ipykernel_15276\\1092399772.py:6: FutureWarning: The frame.append method is deprecated and will be removed from pandas in a future version. Use pandas.concat instead.\n",
      "  df = df.append({'k': k, 'p': p, 'loss': model.calculate_loocv()}, ignore_index=True)\n",
      "C:\\Users\\onii-chan\\AppData\\Local\\Temp\\ipykernel_15276\\1092399772.py:6: FutureWarning: The frame.append method is deprecated and will be removed from pandas in a future version. Use pandas.concat instead.\n",
      "  df = df.append({'k': k, 'p': p, 'loss': model.calculate_loocv()}, ignore_index=True)\n",
      "C:\\Users\\onii-chan\\AppData\\Local\\Temp\\ipykernel_15276\\1092399772.py:6: FutureWarning: The frame.append method is deprecated and will be removed from pandas in a future version. Use pandas.concat instead.\n",
      "  df = df.append({'k': k, 'p': p, 'loss': model.calculate_loocv()}, ignore_index=True)\n",
      "C:\\Users\\onii-chan\\AppData\\Local\\Temp\\ipykernel_15276\\1092399772.py:6: FutureWarning: The frame.append method is deprecated and will be removed from pandas in a future version. Use pandas.concat instead.\n",
      "  df = df.append({'k': k, 'p': p, 'loss': model.calculate_loocv()}, ignore_index=True)\n",
      "C:\\Users\\onii-chan\\AppData\\Local\\Temp\\ipykernel_15276\\1092399772.py:6: FutureWarning: The frame.append method is deprecated and will be removed from pandas in a future version. Use pandas.concat instead.\n",
      "  df = df.append({'k': k, 'p': p, 'loss': model.calculate_loocv()}, ignore_index=True)\n",
      "C:\\Users\\onii-chan\\AppData\\Local\\Temp\\ipykernel_15276\\1092399772.py:6: FutureWarning: The frame.append method is deprecated and will be removed from pandas in a future version. Use pandas.concat instead.\n",
      "  df = df.append({'k': k, 'p': p, 'loss': model.calculate_loocv()}, ignore_index=True)\n",
      "C:\\Users\\onii-chan\\AppData\\Local\\Temp\\ipykernel_15276\\1092399772.py:6: FutureWarning: The frame.append method is deprecated and will be removed from pandas in a future version. Use pandas.concat instead.\n",
      "  df = df.append({'k': k, 'p': p, 'loss': model.calculate_loocv()}, ignore_index=True)\n",
      "C:\\Users\\onii-chan\\AppData\\Local\\Temp\\ipykernel_15276\\1092399772.py:6: FutureWarning: The frame.append method is deprecated and will be removed from pandas in a future version. Use pandas.concat instead.\n",
      "  df = df.append({'k': k, 'p': p, 'loss': model.calculate_loocv()}, ignore_index=True)\n"
     ]
    },
    {
     "name": "stderr",
     "output_type": "stream",
     "text": [
      "C:\\Users\\onii-chan\\AppData\\Local\\Temp\\ipykernel_15276\\1092399772.py:6: FutureWarning: The frame.append method is deprecated and will be removed from pandas in a future version. Use pandas.concat instead.\n",
      "  df = df.append({'k': k, 'p': p, 'loss': model.calculate_loocv()}, ignore_index=True)\n",
      "C:\\Users\\onii-chan\\AppData\\Local\\Temp\\ipykernel_15276\\1092399772.py:6: FutureWarning: The frame.append method is deprecated and will be removed from pandas in a future version. Use pandas.concat instead.\n",
      "  df = df.append({'k': k, 'p': p, 'loss': model.calculate_loocv()}, ignore_index=True)\n",
      "C:\\Users\\onii-chan\\AppData\\Local\\Temp\\ipykernel_15276\\1092399772.py:6: FutureWarning: The frame.append method is deprecated and will be removed from pandas in a future version. Use pandas.concat instead.\n",
      "  df = df.append({'k': k, 'p': p, 'loss': model.calculate_loocv()}, ignore_index=True)\n",
      "C:\\Users\\onii-chan\\AppData\\Local\\Temp\\ipykernel_15276\\1092399772.py:6: FutureWarning: The frame.append method is deprecated and will be removed from pandas in a future version. Use pandas.concat instead.\n",
      "  df = df.append({'k': k, 'p': p, 'loss': model.calculate_loocv()}, ignore_index=True)\n",
      "C:\\Users\\onii-chan\\AppData\\Local\\Temp\\ipykernel_15276\\1092399772.py:6: FutureWarning: The frame.append method is deprecated and will be removed from pandas in a future version. Use pandas.concat instead.\n",
      "  df = df.append({'k': k, 'p': p, 'loss': model.calculate_loocv()}, ignore_index=True)\n",
      "C:\\Users\\onii-chan\\AppData\\Local\\Temp\\ipykernel_15276\\1092399772.py:6: FutureWarning: The frame.append method is deprecated and will be removed from pandas in a future version. Use pandas.concat instead.\n",
      "  df = df.append({'k': k, 'p': p, 'loss': model.calculate_loocv()}, ignore_index=True)\n",
      "C:\\Users\\onii-chan\\AppData\\Local\\Temp\\ipykernel_15276\\1092399772.py:6: FutureWarning: The frame.append method is deprecated and will be removed from pandas in a future version. Use pandas.concat instead.\n",
      "  df = df.append({'k': k, 'p': p, 'loss': model.calculate_loocv()}, ignore_index=True)\n",
      "C:\\Users\\onii-chan\\AppData\\Local\\Temp\\ipykernel_15276\\1092399772.py:6: FutureWarning: The frame.append method is deprecated and will be removed from pandas in a future version. Use pandas.concat instead.\n",
      "  df = df.append({'k': k, 'p': p, 'loss': model.calculate_loocv()}, ignore_index=True)\n",
      "C:\\Users\\onii-chan\\AppData\\Local\\Temp\\ipykernel_15276\\1092399772.py:6: FutureWarning: The frame.append method is deprecated and will be removed from pandas in a future version. Use pandas.concat instead.\n",
      "  df = df.append({'k': k, 'p': p, 'loss': model.calculate_loocv()}, ignore_index=True)\n",
      "C:\\Users\\onii-chan\\AppData\\Local\\Temp\\ipykernel_15276\\1092399772.py:6: FutureWarning: The frame.append method is deprecated and will be removed from pandas in a future version. Use pandas.concat instead.\n",
      "  df = df.append({'k': k, 'p': p, 'loss': model.calculate_loocv()}, ignore_index=True)\n",
      "C:\\Users\\onii-chan\\AppData\\Local\\Temp\\ipykernel_15276\\1092399772.py:6: FutureWarning: The frame.append method is deprecated and will be removed from pandas in a future version. Use pandas.concat instead.\n",
      "  df = df.append({'k': k, 'p': p, 'loss': model.calculate_loocv()}, ignore_index=True)\n",
      "C:\\Users\\onii-chan\\AppData\\Local\\Temp\\ipykernel_15276\\1092399772.py:6: FutureWarning: The frame.append method is deprecated and will be removed from pandas in a future version. Use pandas.concat instead.\n",
      "  df = df.append({'k': k, 'p': p, 'loss': model.calculate_loocv()}, ignore_index=True)\n",
      "C:\\Users\\onii-chan\\AppData\\Local\\Temp\\ipykernel_15276\\1092399772.py:6: FutureWarning: The frame.append method is deprecated and will be removed from pandas in a future version. Use pandas.concat instead.\n",
      "  df = df.append({'k': k, 'p': p, 'loss': model.calculate_loocv()}, ignore_index=True)\n",
      "C:\\Users\\onii-chan\\AppData\\Local\\Temp\\ipykernel_15276\\1092399772.py:6: FutureWarning: The frame.append method is deprecated and will be removed from pandas in a future version. Use pandas.concat instead.\n",
      "  df = df.append({'k': k, 'p': p, 'loss': model.calculate_loocv()}, ignore_index=True)\n",
      "C:\\Users\\onii-chan\\AppData\\Local\\Temp\\ipykernel_15276\\1092399772.py:6: FutureWarning: The frame.append method is deprecated and will be removed from pandas in a future version. Use pandas.concat instead.\n",
      "  df = df.append({'k': k, 'p': p, 'loss': model.calculate_loocv()}, ignore_index=True)\n",
      "C:\\Users\\onii-chan\\AppData\\Local\\Temp\\ipykernel_15276\\1092399772.py:6: FutureWarning: The frame.append method is deprecated and will be removed from pandas in a future version. Use pandas.concat instead.\n",
      "  df = df.append({'k': k, 'p': p, 'loss': model.calculate_loocv()}, ignore_index=True)\n",
      "C:\\Users\\onii-chan\\AppData\\Local\\Temp\\ipykernel_15276\\1092399772.py:6: FutureWarning: The frame.append method is deprecated and will be removed from pandas in a future version. Use pandas.concat instead.\n",
      "  df = df.append({'k': k, 'p': p, 'loss': model.calculate_loocv()}, ignore_index=True)\n"
     ]
    },
    {
     "ename": "KeyboardInterrupt",
     "evalue": "",
     "output_type": "error",
     "traceback": [
      "\u001b[1;31m---------------------------------------------------------------------------\u001b[0m",
      "\u001b[1;31mKeyboardInterrupt\u001b[0m                         Traceback (most recent call last)",
      "Input \u001b[1;32mIn [7]\u001b[0m, in \u001b[0;36m<module>\u001b[1;34m\u001b[0m\n\u001b[0;32m      4\u001b[0m     \u001b[38;5;28;01mfor\u001b[39;00m p \u001b[38;5;129;01min\u001b[39;00m np\u001b[38;5;241m.\u001b[39marange(\u001b[38;5;241m1\u001b[39m,\u001b[38;5;241m16\u001b[39m):\n\u001b[0;32m      5\u001b[0m         model \u001b[38;5;241m=\u001b[39m KNNClassifier(k \u001b[38;5;241m=\u001b[39m k, p \u001b[38;5;241m=\u001b[39m p)\u001b[38;5;241m.\u001b[39mfit(X,Y)\n\u001b[1;32m----> 6\u001b[0m         df \u001b[38;5;241m=\u001b[39m df\u001b[38;5;241m.\u001b[39mappend({\u001b[38;5;124m'\u001b[39m\u001b[38;5;124mk\u001b[39m\u001b[38;5;124m'\u001b[39m: k, \u001b[38;5;124m'\u001b[39m\u001b[38;5;124mp\u001b[39m\u001b[38;5;124m'\u001b[39m: p, \u001b[38;5;124m'\u001b[39m\u001b[38;5;124mloss\u001b[39m\u001b[38;5;124m'\u001b[39m: \u001b[43mmodel\u001b[49m\u001b[38;5;241;43m.\u001b[39;49m\u001b[43mcalculate_loocv\u001b[49m\u001b[43m(\u001b[49m\u001b[43m)\u001b[49m}, ignore_index\u001b[38;5;241m=\u001b[39m\u001b[38;5;28;01mTrue\u001b[39;00m)\n\u001b[0;32m      8\u001b[0m t2 \u001b[38;5;241m=\u001b[39m time\u001b[38;5;241m.\u001b[39mprocess_time()\n\u001b[0;32m      9\u001b[0m \u001b[38;5;28mprint\u001b[39m(np\u001b[38;5;241m.\u001b[39mround(t2 \u001b[38;5;241m-\u001b[39m t1, \u001b[38;5;241m5\u001b[39m))\n",
      "File \u001b[1;32m~\\Documents\\GitHub\\slt-knn\\knn\\knn.py:87\u001b[0m, in \u001b[0;36mKNNClassifier.calculate_loocv\u001b[1;34m(self)\u001b[0m\n\u001b[0;32m     85\u001b[0m \u001b[38;5;28;01mdef\u001b[39;00m \u001b[38;5;21mcalculate_loocv\u001b[39m(\u001b[38;5;28mself\u001b[39m):\n\u001b[0;32m     86\u001b[0m     \u001b[38;5;66;03m# get distances between input X and train X\u001b[39;00m\n\u001b[1;32m---> 87\u001b[0m     distances \u001b[38;5;241m=\u001b[39m \u001b[43mcdist\u001b[49m\u001b[43m(\u001b[49m\u001b[43mXA\u001b[49m\u001b[38;5;241;43m=\u001b[39;49m\u001b[38;5;28;43mself\u001b[39;49m\u001b[38;5;241;43m.\u001b[39;49m\u001b[43mX\u001b[49m\u001b[43m,\u001b[49m\u001b[43m \u001b[49m\u001b[43mXB\u001b[49m\u001b[38;5;241;43m=\u001b[39;49m\u001b[38;5;28;43mself\u001b[39;49m\u001b[38;5;241;43m.\u001b[39;49m\u001b[43mX\u001b[49m\u001b[43m,\u001b[49m\u001b[43m \u001b[49m\u001b[43mmetric\u001b[49m\u001b[38;5;241;43m=\u001b[39;49m\u001b[38;5;124;43m'\u001b[39;49m\u001b[38;5;124;43mminkowski\u001b[39;49m\u001b[38;5;124;43m'\u001b[39;49m\u001b[43m,\u001b[49m\u001b[43m \u001b[49m\u001b[43mp\u001b[49m\u001b[38;5;241;43m=\u001b[39;49m\u001b[38;5;28;43mself\u001b[39;49m\u001b[38;5;241;43m.\u001b[39;49m\u001b[43mp\u001b[49m\u001b[43m)\u001b[49m\n\u001b[0;32m     88\u001b[0m     \u001b[38;5;66;03m# get auxiliary label matrix\u001b[39;00m\n\u001b[0;32m     89\u001b[0m     labels \u001b[38;5;241m=\u001b[39m np\u001b[38;5;241m.\u001b[39mtile(\u001b[38;5;28mself\u001b[39m\u001b[38;5;241m.\u001b[39mY, (\u001b[38;5;28mself\u001b[39m\u001b[38;5;241m.\u001b[39mX\u001b[38;5;241m.\u001b[39mshape[\u001b[38;5;241m0\u001b[39m], \u001b[38;5;241m1\u001b[39m))\n",
      "File \u001b[1;32m~\\AppData\\Local\\Programs\\Python\\Python310\\lib\\site-packages\\scipy\\spatial\\distance.py:2947\u001b[0m, in \u001b[0;36mcdist\u001b[1;34m(XA, XB, metric, out, **kwargs)\u001b[0m\n\u001b[0;32m   2945\u001b[0m \u001b[38;5;28;01mif\u001b[39;00m metric_info \u001b[38;5;129;01mis\u001b[39;00m \u001b[38;5;129;01mnot\u001b[39;00m \u001b[38;5;28;01mNone\u001b[39;00m:\n\u001b[0;32m   2946\u001b[0m     cdist_fn \u001b[38;5;241m=\u001b[39m metric_info\u001b[38;5;241m.\u001b[39mcdist_func\n\u001b[1;32m-> 2947\u001b[0m     \u001b[38;5;28;01mreturn\u001b[39;00m cdist_fn(XA, XB, out\u001b[38;5;241m=\u001b[39mout, \u001b[38;5;241m*\u001b[39m\u001b[38;5;241m*\u001b[39mkwargs)\n\u001b[0;32m   2948\u001b[0m \u001b[38;5;28;01melif\u001b[39;00m mstr\u001b[38;5;241m.\u001b[39mstartswith(\u001b[38;5;124m\"\u001b[39m\u001b[38;5;124mtest_\u001b[39m\u001b[38;5;124m\"\u001b[39m):\n\u001b[0;32m   2949\u001b[0m     metric_info \u001b[38;5;241m=\u001b[39m _TEST_METRICS\u001b[38;5;241m.\u001b[39mget(mstr, \u001b[38;5;28;01mNone\u001b[39;00m)\n",
      "\u001b[1;31mKeyboardInterrupt\u001b[0m: "
     ]
    }
   ],
   "source": [
    "t1 = time.process_time() \n",
    "\n",
    "for k in np.arange(a,b):\n",
    "    for p in np.arange(1,16):\n",
    "        model = KNNClassifier(k = k, p = p).fit(X,Y)\n",
    "        df = df.append({'k': k, 'p': p, 'loss': model.calculate_loocv()}, ignore_index=True)\n",
    "        \n",
    "t2 = time.process_time()\n",
    "print(np.round(t2 - t1, 5))\n",
    "df.to_csv('k{}_to_{}.csv'.format(a,b))"
   ]
  },
  {
   "cell_type": "code",
   "execution_count": null,
   "id": "c1f51622",
   "metadata": {},
   "outputs": [],
   "source": []
  }
 ],
 "metadata": {
  "kernelspec": {
   "display_name": "Python 3 (ipykernel)",
   "language": "python",
   "name": "python3"
  },
  "language_info": {
   "codemirror_mode": {
    "name": "ipython",
    "version": 3
   },
   "file_extension": ".py",
   "mimetype": "text/x-python",
   "name": "python",
   "nbconvert_exporter": "python",
   "pygments_lexer": "ipython3",
   "version": "3.10.2"
  }
 },
 "nbformat": 4,
 "nbformat_minor": 5
}
