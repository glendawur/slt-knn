{
 "cells": [
  {
   "cell_type": "code",
   "execution_count": 2,
   "id": "4d10f315",
   "metadata": {},
   "outputs": [],
   "source": [
    "import pandas as pd\n",
    "import numpy as np"
   ]
  },
  {
   "cell_type": "code",
   "execution_count": 3,
   "id": "43b8024e",
   "metadata": {},
   "outputs": [],
   "source": [
    "data = pd.read_csv('data/MNIST_train.csv', header = None)\n",
    "Y_train = data.iloc[:, 0]\n",
    "X_train = data.iloc[:, 1:]"
   ]
  },
  {
   "cell_type": "code",
   "execution_count": 4,
   "id": "f6c9b07a",
   "metadata": {},
   "outputs": [],
   "source": [
    "from sklearn.decomposition import TruncatedSVD"
   ]
  },
  {
   "cell_type": "code",
   "execution_count": 19,
   "id": "1baddf42",
   "metadata": {},
   "outputs": [],
   "source": [
    "from knn.knn_fast import KNNClassifierFast, majority, accuracy\n",
    "import numba\n",
    "import itertools\n",
    "import numba\n",
    "import threading\n",
    "import queue\n",
    "import numpy as np\n",
    "from scipy.spatial.distance import cdist\n"
   ]
  },
  {
   "cell_type": "code",
   "execution_count": 18,
   "id": "19e3bf39",
   "metadata": {},
   "outputs": [],
   "source": [
    "class M(object):\n",
    "    def __init__(self, p: float = 2.):\n",
    "        \"\"\"\n",
    "        \"\"\"\n",
    "        self.p = p\n",
    "        self.Y = None\n",
    "        self.X = None\n",
    "        self.predicted_labels = None\n",
    "        self.loocv_labels = None\n",
    "        self.loocv_accuracy = None\n",
    "        \n",
    "    def fit(self, X: np.ndarray, Y: np.array):\n",
    "        \"\"\"\n",
    "        \"\"\"\n",
    "        # get initial data that is base for our further decision\n",
    "        # training data feature space\n",
    "        self.X = X\n",
    "        #  training data label space\n",
    "        self.Y = Y\n",
    "        \n",
    "        return self\n",
    "\n",
    "        \n",
    "    def minkowski_helper(self, q: queue.Queue, N, result):\n",
    "        \"\"\"\n",
    "        Helper function to calculate minkowski distance. It picks a coordinate from the queue\n",
    "        and it saves the result in the result matrix.\n",
    "        \"\"\"\n",
    "        while True:\n",
    "            task = q.get()\n",
    "\n",
    "            i = task[0]\n",
    "            prod = task[1]\n",
    "\n",
    "            x = i // N\n",
    "            y = i % N\n",
    "\n",
    "            if (x == y):\n",
    "                q.task_done()\n",
    "                continue\n",
    "\n",
    "            elif (x > y):\n",
    "                q.task_done()\n",
    "                continue\n",
    "\n",
    "            m = minkowski(prod[0], prod[1], self.p)\n",
    "            result[x, y] = m\n",
    "            result[y, x] = m\n",
    "            \n",
    "            q.task_done()\n",
    "        \n",
    "    \n",
    "    def compute_minkowski_distance(self, XA, XB, p, nr_of_threads):\n",
    "        \"\"\"\n",
    "        \n",
    "        \"\"\"\n",
    "        XA = np.asarray(XA)\n",
    "        XB = np.asarray(XB)\n",
    "\n",
    "        N = XB.shape[0]\n",
    "\n",
    "        result = np.zeros([N, N])\n",
    "        \n",
    "        prod = list(itertools.product(XA, XA))\n",
    "\n",
    "        q = queue.Queue()\n",
    "\n",
    "        for i in range(len(prod)):\n",
    "            q.put((i, prod[i]))\n",
    "\n",
    "        for i in range(nr_of_threads):\n",
    "            worker = threading.Thread(target=self.minkowski_helper, args=(q, N, result), daemon=True)\n",
    "            worker.start()\n",
    "\n",
    "\n",
    "        q.join()\n",
    "\n",
    "        return result\n",
    "\n",
    "    @staticmethod\n",
    "    @numba.njit(parallel=True, fastmath=True)  #('(float64[:, :, :], uint64)', parallel=True, fastmath=True)\n",
    "    def minkowski_distance(X, p):\n",
    "        \"\"\"\n",
    "        Function that computes the minkowski distance between X and X.\n",
    "        The numba decorators makes sure that this code is compiled to machine code.\n",
    "        \"\"\"\n",
    "        N = X.shape[0]\n",
    "        X = np.asarray(X)\n",
    "        result = np.empty(shape=(N, N), dtype=np.float32)\n",
    "        for i in numba.prange(N):\n",
    "            for j in numba.prange(N):\n",
    "                if (j > i):\n",
    "                    continue\n",
    "\n",
    "                elif (i == j):\n",
    "                    result[i,j] = 0\n",
    "                    continue\n",
    "\n",
    "                u_v = X[i].astype(np.float32) - X[j].astype(np.float32)\n",
    "                norm = np.linalg.norm(u_v, ord=p)\n",
    "                result[i, j] = norm\n",
    "                result[j, i] = norm\n",
    "\n",
    "\n",
    "        return result\n",
    "    \n",
    "    def calculate_distance(self):\n",
    "        # get distances between input X and train X\n",
    "        try:\n",
    "            distances = self.minkowski_distance(self.X.to_numpy(), self.p)\n",
    "        except:\n",
    "            distances = self.minkowski_distance(self.X, self.p)\n",
    "\n",
    "        return distances"
   ]
  },
  {
   "cell_type": "code",
   "execution_count": 20,
   "id": "ebc5e0c0",
   "metadata": {},
   "outputs": [],
   "source": [
    "def calculate_loocv(distances,X,Y):\n",
    "    results = []\n",
    "    for k in np.arange(1,21):\n",
    "        # get distances between input X and train X\n",
    "        # get auxiliary label matrix\n",
    "        labels = np.tile(Y, (X.shape[0], 1))\n",
    "        supermatrix = np.zeros((X.shape[0], k, 2))\n",
    "        # sort distances\n",
    "        sorted_points_indices = np.apply_along_axis(np.argsort, 1, distances)[:, 1:k+1]\n",
    "        supermatrix[:, :, 0] = distances[np.arange(sorted_points_indices.shape[0])[:, None], sorted_points_indices]\n",
    "        # sort labels according to indices\n",
    "        supermatrix[:, :, 1] = labels[np.arange(sorted_points_indices.shape[0])[:, None], sorted_points_indices]\n",
    "\n",
    "        # predict labels using rule with tie-breaking extension\n",
    "        loocv_labels = np.apply_along_axis(majority, 1,\n",
    "                                                        supermatrix.reshape((supermatrix.shape[0],\n",
    "                                                                             2 * supermatrix.shape[1]),\n",
    "                                                                            order='F'), k=k)\n",
    "        loocv_loss = 1 - accuracy(Y, loocv_labels)\n",
    "        results.append(loocv_loss)\n",
    "    return results"
   ]
  },
  {
   "cell_type": "code",
   "execution_count": 5,
   "id": "3031e094",
   "metadata": {},
   "outputs": [],
   "source": [
    "dimensions = [50, 100, 150, 200, 300, 400, 500, 600, 650, 700]"
   ]
  },
  {
   "cell_type": "code",
   "execution_count": null,
   "id": "b52d1146",
   "metadata": {},
   "outputs": [],
   "source": []
  },
  {
   "cell_type": "code",
   "execution_count": 6,
   "id": "341674af",
   "metadata": {},
   "outputs": [],
   "source": [
    "df = pd.DataFrame()"
   ]
  },
  {
   "cell_type": "code",
   "execution_count": 23,
   "id": "c4d09cfc",
   "metadata": {},
   "outputs": [
    {
     "name": "stdout",
     "output_type": "stream",
     "text": [
      "50 is started\n",
      "100 is started\n",
      "150 is started\n",
      "200 is started\n",
      "300 is started\n",
      "400 is started\n",
      "500 is started\n",
      "600 is started\n",
      "650 is started\n",
      "700 is started\n"
     ]
    }
   ],
   "source": [
    "for dim in dimensions:\n",
    "    print(f'{dim} is started')\n",
    "    X = TruncatedSVD(n_components=dim).fit_transform(X_train.iloc[:20000,:])\n",
    "    distances = M(p=14.).fit(X, Y_train[:20000]).calculate_distance()\n",
    "    results = calculate_loocv(distances, X, Y_train[:20000])\n",
    "    for k in range(20):\n",
    "        df = df.append({'k': k+1, 'p': 14., 'loss': results[k], 'dim': dim}, ignore_index = True)\n",
    "    df.to_csv('questionG.csv')\n",
    "    "
   ]
  },
  {
   "cell_type": "code",
   "execution_count": 24,
   "id": "1321895d",
   "metadata": {},
   "outputs": [
    {
     "data": {
      "text/plain": [
       "(200, 4)"
      ]
     },
     "execution_count": 24,
     "metadata": {},
     "output_type": "execute_result"
    }
   ],
   "source": [
    "df.shape"
   ]
  },
  {
   "cell_type": "code",
   "execution_count": 33,
   "id": "37c27ac3",
   "metadata": {},
   "outputs": [],
   "source": [
    "losses = df[df.dim < 400].pivot('dim', 'k', 'loss').values"
   ]
  },
  {
   "cell_type": "code",
   "execution_count": 37,
   "id": "a2e48f86",
   "metadata": {},
   "outputs": [
    {
     "data": {
      "image/png": "[encoded data removed]",
      "text/plain": [
       "<Figure size 432x288 with 1 Axes>"
      ]
     },
     "metadata": {
      "needs_background": "light"
     },
     "output_type": "display_data"
    }
   ],
   "source": [
    "import matplotlib.pyplot as plt\n",
    "\n",
    "plt.plot(np.arange(1, 21), losses[0], label = \"50 components\")\n",
    "plt.plot(np.arange(1, 21), losses[1], label = \"100 components\")\n",
    "\n",
    "plt.plot(np.arange(1, 21), losses[2], label = \"150 components\")\n",
    "plt.plot(np.arange(1, 21), losses[3], label = \"200 components\")\n",
    "\n",
    "\n",
    "plt.xlabel('k-neigbors')\n",
    "# Set the y axis label of the current axis.\n",
    "plt.ylabel('Loss')\n",
    "# Set a title of the current axes.\n",
    "plt.xticks(np.arange(1, 21))\n",
    "plt.grid()\n",
    "# show a legend on the plot\n",
    "plt.legend()\n",
    "# Display a figure.\n",
    "\n",
    "plt.show()"
   ]
  },
  {
   "cell_type": "code",
   "execution_count": null,
   "id": "df5a6a4b",
   "metadata": {},
   "outputs": [],
   "source": []
  }
 ],
 "metadata": {
  "kernelspec": {
   "display_name": "Python 3",
   "language": "python",
   "name": "python3"
  },
  "language_info": {
   "codemirror_mode": {
    "name": "ipython",
    "version": 3
   },
   "file_extension": ".py",
   "mimetype": "text/x-python",
   "name": "python",
   "nbconvert_exporter": "python",
   "pygments_lexer": "ipython3",
   "version": "3.6.8"
  }
 },
 "nbformat": 4,
 "nbformat_minor": 5
}
