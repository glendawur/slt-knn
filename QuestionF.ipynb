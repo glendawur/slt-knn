{
 "cells": [
  {
   "cell_type": "code",
   "execution_count": 1,
   "metadata": {},
   "outputs": [],
   "source": [
    "# import libraries\n",
    "from knn.knn_fast import KNNClassifierFast, accuracy\n",
    "import pandas as pd"
   ]
  },
  {
   "cell_type": "code",
   "execution_count": 2,
   "metadata": {},
   "outputs": [],
   "source": [
    "# define k obtained from exercise (E)\n",
    "k: int = 4\n",
    "\n",
    "# define p obtained from exercise (C)\n",
    "p: int = 14"
   ]
  },
  {
   "cell_type": "code",
   "execution_count": 3,
   "metadata": {},
   "outputs": [],
   "source": [
    "# read in training data\n",
    "data = pd.read_csv('data/MNIST_train.csv', header=None)\n",
    "Y_train = data.iloc[:, 0]\n",
    "X_train = data.iloc[:, 1:]\n",
    "\n",
    "X_train = X_train.head(20000)\n",
    "Y_train = Y_train.head(20000)\n",
    "\n",
    "# read in test data\n",
    "df = pd.read_csv('data/MNIST_test.csv', header = None)\n",
    "Y_test = df.iloc[:,0]\n",
    "X_test = df.iloc[:,1:]\n",
    "\n",
    "# pick 5000\n",
    "X_test = X_test.head(5000)\n",
    "Y_test = Y_test.head(5000)"
   ]
  },
  {
   "cell_type": "code",
   "execution_count": 4,
   "metadata": {},
   "outputs": [],
   "source": [
    "# fit model\n",
    "model = KNNClassifierFast(k=k, p=p).fit(X_train, Y_train)\n",
    "acc = accuracy(Y_test, model.predict(X_test))"
   ]
  },
  {
   "cell_type": "code",
   "execution_count": 5,
   "metadata": {},
   "outputs": [
    {
     "data": {
      "text/plain": [
       "0.9532"
      ]
     },
     "execution_count": 5,
     "metadata": {},
     "output_type": "execute_result"
    }
   ],
   "source": [
    "acc"
   ]
  }
 ],
 "metadata": {
  "interpreter": {
   "hash": "9ec1ccfe0d98e93cd3ff8953cac9364163407fba13736c55f90cf8afe7e68d85"
  },
  "kernelspec": {
   "display_name": "Python 3.8.6 ('machine_learning')",
   "language": "python",
   "name": "python3"
  },
  "language_info": {
   "codemirror_mode": {
    "name": "ipython",
    "version": 3
   },
   "file_extension": ".py",
   "mimetype": "text/x-python",
   "name": "python",
   "nbconvert_exporter": "python",
   "pygments_lexer": "ipython3",
   "version": "3.8.6"
  },
  "orig_nbformat": 4
 },
 "nbformat": 4,
 "nbformat_minor": 2
}
