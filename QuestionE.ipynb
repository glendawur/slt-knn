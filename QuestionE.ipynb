{
 "cells": [
  {
   "cell_type": "code",
   "execution_count": null,
   "metadata": {},
   "outputs": [],
   "source": [
    "# import libraries\n",
    "from knn.knn_fast import KNNClassifierFast\n",
    "from knn.knn import KNNClassifier\n",
    "import numpy as np\n",
    "import pandas as pd\n",
    "import time"
   ]
  },
  {
   "cell_type": "code",
   "execution_count": null,
   "metadata": {},
   "outputs": [],
   "source": [
    "# read in data\n",
    "data = pd.read_csv('data/MNIST_train_small.csv', header=None)\n",
    "Y = data.iloc[:, 0]\n",
    "X = data.iloc[:, 1:]"
   ]
  },
  {
   "cell_type": "code",
   "execution_count": null,
   "metadata": {},
   "outputs": [],
   "source": [
    "# create empty dataframe that will be used to store the results\n",
    "df = pd.DataFrame()"
   ]
  },
  {
   "cell_type": "code",
   "execution_count": null,
   "metadata": {},
   "outputs": [],
   "source": [
    "# set P (obtained from exercise C)\n",
    "\n",
    "p: int = 6 # TODO\n",
    "\n",
    "t1 = time.process_time()\n",
    "\n",
    "for k in np.arange(1, 21):\n",
    "    model = KNNClassifierFast(k=k, p=p).fit(X, Y)\n",
    "    df = df.append({'k': k, 'p': p, 'loss': model.calculate_loocv()}, ignore_index=True)\n",
    "\n",
    "df.to_csv(f'k1_to_21_for_p{p}.csv')"
   ]
  }
 ],
 "metadata": {
  "interpreter": {
   "hash": "9ec1ccfe0d98e93cd3ff8953cac9364163407fba13736c55f90cf8afe7e68d85"
  },
  "kernelspec": {
   "display_name": "Python 3.8.6 ('machine_learning')",
   "language": "python",
   "name": "python3"
  },
  "language_info": {
   "codemirror_mode": {
    "name": "ipython",
    "version": 3
   },
   "file_extension": ".py",
   "mimetype": "text/x-python",
   "name": "python",
   "nbconvert_exporter": "python",
   "pygments_lexer": "ipython3",
   "version": "3.8.6"
  },
  "orig_nbformat": 4
 },
 "nbformat": 4,
 "nbformat_minor": 2
}
