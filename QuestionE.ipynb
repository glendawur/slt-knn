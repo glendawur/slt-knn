{
 "cells": [
  {
   "cell_type": "code",
   "execution_count": 2,
   "metadata": {},
   "outputs": [],
   "source": [
    "# import libraries\n",
    "from knn.knn_fast import KNNClassifierFast\n",
    "from sklearn.decomposition import TruncatedSVD\n",
    "import numpy as np\n",
    "import pandas as pd"
   ]
  },
  {
   "cell_type": "code",
   "execution_count": 4,
   "metadata": {},
   "outputs": [],
   "source": [
    "# read in data\n",
    "data = pd.read_csv('data/MNIST_train.csv', header=None)\n",
    "Y = data.iloc[:, 0]\n",
    "X = data.iloc[:, 1:]\n",
    "\n",
    "X = X.head(20000)\n",
    "Y = Y.head(20000)"
   ]
  },
  {
   "cell_type": "code",
   "execution_count": 6,
   "metadata": {},
   "outputs": [],
   "source": [
    "# create empty dataframe that will be used to store the results\n",
    "df = pd.DataFrame()"
   ]
  },
  {
   "cell_type": "markdown",
   "metadata": {},
   "source": [
    "Below cell block is not needed."
   ]
  },
  {
   "cell_type": "code",
   "execution_count": 4,
   "metadata": {},
   "outputs": [],
   "source": [
    "#L = KNNClassifierFast.compute_truncated_svd(X.to_numpy(), 2)\n",
    "#from sklearn.decomposition import TruncatedSVD\n",
    "#svd = TruncatedSVD(n_components=1, n_iter=7, random_state=42)\n",
    "#X_truncated = pd.DataFrame(svd.fit_transform(X))"
   ]
  },
  {
   "cell_type": "code",
   "execution_count": null,
   "metadata": {},
   "outputs": [],
   "source": [
    "# uncomment your part\n",
    "# Andrei's part\n",
    "#a = 1\n",
    "#b = 6\n",
    "\n",
    "# Luc's part \n",
    "#a = 6\n",
    "#b = 11\n",
    "\n",
    "# Nick's part\n",
    "#a=11\n",
    "#b=16\n",
    "\n",
    "# Sri's part\n",
    "#a = 16\n",
    "#b = 21"
   ]
  },
  {
   "cell_type": "code",
   "execution_count": 7,
   "metadata": {},
   "outputs": [
    {
     "name": "stdout",
     "output_type": "stream",
     "text": [
      "     k     p    loss\n",
      "0  1.0  14.0  0.9679\n"
     ]
    },
    {
     "name": "stderr",
     "output_type": "stream",
     "text": [
      "/var/folders/wt/z318s4qs1ql_xph2dklscqpc0000gn/T/ipykernel_73936/3119225710.py:6: FutureWarning: The frame.append method is deprecated and will be removed from pandas in a future version. Use pandas.concat instead.\n",
      "  df = df.append({'k': k, 'p': p, 'loss': model.calculate_loocv()}, ignore_index=True)\n"
     ]
    }
   ],
   "source": [
    "# set P (obtained from exercise C)\n",
    "p: int = 14\n",
    "\n",
    "for k in np.arange(a, b):\n",
    "    model = KNNClassifierFast(k=k, p=p).fit(X, Y)\n",
    "    df = df.append({'k': k, 'p': p, 'loss': model.calculate_loocv()}, ignore_index=True)\n",
    "\n",
    "print(df)\n",
    "df.to_csv(f'k1_to_21_for_p{p}.csv')"
   ]
  }
 ],
 "metadata": {
  "interpreter": {
   "hash": "9ec1ccfe0d98e93cd3ff8953cac9364163407fba13736c55f90cf8afe7e68d85"
  },
  "kernelspec": {
   "display_name": "Python 3.8.6 ('machine_learning')",
   "language": "python",
   "name": "python3"
  },
  "language_info": {
   "codemirror_mode": {
    "name": "ipython",
    "version": 3
   },
   "file_extension": ".py",
   "mimetype": "text/x-python",
   "name": "python",
   "nbconvert_exporter": "python",
   "pygments_lexer": "ipython3",
   "version": "3.8.6"
  },
  "orig_nbformat": 4
 },
 "nbformat": 4,
 "nbformat_minor": 2
}
